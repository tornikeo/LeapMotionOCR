{
 "cells": [
  {
   "cell_type": "code",
   "execution_count": 1,
   "metadata": {},
   "outputs": [],
   "source": [
    "%load_ext autoreload\n",
    "%autoreload 2"
   ]
  },
  {
   "cell_type": "code",
   "execution_count": 2,
   "metadata": {},
   "outputs": [],
   "source": [
    "import numpy as np\n",
    "import matplotlib.pyplot as plt\n",
    "import seaborn as sns\n",
    "import pandas as pd"
   ]
  },
  {
   "cell_type": "markdown",
   "metadata": {},
   "source": [
    "# Load Data"
   ]
  },
  {
   "cell_type": "code",
   "execution_count": 3,
   "metadata": {},
   "outputs": [
    {
     "name": "stdout",
     "output_type": "stream",
     "text": [
      "750 750 250 250\n"
     ]
    }
   ],
   "source": [
    "from utils import load_training_data, mute_stdout, \\\n",
    "    StandardScaler, accuracy_score, \\\n",
    "    cross_val_score,train_test_split, rasterize\n",
    "\n",
    "x_full, y_full = load_training_data('training_data')\n",
    "\n",
    "x_train, x_test, y_train, y_test = train_test_split(\n",
    "    x_full, y_full.values, test_size=.25\n",
    ")\n",
    "\n",
    "print(len(x_train), len(y_train), len(x_test), len(y_test))"
   ]
  },
  {
   "cell_type": "markdown",
   "metadata": {},
   "source": [
    "# Rasterization only"
   ]
  },
  {
   "cell_type": "code",
   "execution_count": 4,
   "metadata": {},
   "outputs": [],
   "source": [
    "raster_size = 16\n",
    "\n",
    "x_train_r = [rasterize(x.values, raster_size) for x in x_train]\n",
    "x_train_r = np.stack(x_train_r)\n",
    "y_train = y_train.copy()\n",
    "\n",
    "x_test_r = [rasterize(x.values, raster_size) for x in x_test]\n",
    "x_test_r = np.stack(x_test_r)\n",
    "y_test = y_test.copy()"
   ]
  },
  {
   "cell_type": "code",
   "execution_count": 5,
   "metadata": {},
   "outputs": [],
   "source": [
    "x_train_flat = x_train_r.reshape(-1, raster_size ** 2)\n",
    "x_test_flat = x_test_r.reshape(-1, raster_size ** 2)"
   ]
  },
  {
   "cell_type": "code",
   "execution_count": 6,
   "metadata": {},
   "outputs": [],
   "source": [
    "scale = StandardScaler()\n",
    "scale.fit(x_train_flat)\n",
    "\n",
    "x_train_scale = scale.transform(x_train_flat)\n",
    "x_test_scale = scale.transform(x_test_flat)"
   ]
  },
  {
   "cell_type": "code",
   "execution_count": 7,
   "metadata": {},
   "outputs": [
    {
     "data": {
      "text/plain": [
       "0.708"
      ]
     },
     "execution_count": 7,
     "metadata": {},
     "output_type": "execute_result"
    }
   ],
   "source": [
    "from utils import cross_val_score\n",
    "from utils import KNN\n",
    "\n",
    "# clf = SVC()\n",
    "clf = KNN(5)\n",
    "clf.fit(x_train_flat, y_train)\n",
    "\n",
    "accuracy_score(y_test, clf.predict(x_test_flat))"
   ]
  },
  {
   "cell_type": "markdown",
   "metadata": {},
   "source": [
    "# Rasterization and PCA"
   ]
  },
  {
   "cell_type": "code",
   "execution_count": 8,
   "metadata": {},
   "outputs": [
    {
     "data": {
      "text/plain": [
       "((750, 64), (250, 64))"
      ]
     },
     "execution_count": 8,
     "metadata": {},
     "output_type": "execute_result"
    }
   ],
   "source": [
    "from utils import PCA\n",
    "\n",
    "pca = PCA(64)\n",
    "\n",
    "\n",
    "# Fit on train only \n",
    "pca.fit(x_train_scale)\n",
    "\n",
    "# Transform both\n",
    "x_train_pca = pca.transform(x_train_scale)\n",
    "x_test_pca = pca.transform(x_test_scale)\n",
    "\n",
    "x_train_pca.shape, x_test_pca.shape"
   ]
  },
  {
   "cell_type": "code",
   "execution_count": 9,
   "metadata": {},
   "outputs": [
    {
     "name": "stdout",
     "output_type": "stream",
     "text": [
      "Training CV accuracy:  0.8917112\n",
      "Test accuracy:  0.896\n"
     ]
    }
   ],
   "source": [
    "clf = KNN(1)\n",
    "cv_score = cross_val_score(\n",
    "                clf, \n",
    "                x_train_pca, y_train, \n",
    "                cv = 4)\n",
    "print(\"Training CV accuracy: \", cv_score.mean())\n",
    "clf.fit(x_train_pca, y_train)\n",
    "y_pred = clf.predict(x_test_pca)\n",
    "print(\"Test accuracy: \", accuracy_score(y_test, y_pred))"
   ]
  }
 ],
 "metadata": {
  "kernelspec": {
   "display_name": "torch2",
   "language": "python",
   "name": "python3"
  },
  "language_info": {
   "codemirror_mode": {
    "name": "ipython",
    "version": 3
   },
   "file_extension": ".py",
   "mimetype": "text/x-python",
   "name": "python",
   "nbconvert_exporter": "python",
   "pygments_lexer": "ipython3",
   "version": "3.10.11"
  }
 },
 "nbformat": 4,
 "nbformat_minor": 2
}
