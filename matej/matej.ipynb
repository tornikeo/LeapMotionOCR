{
 "cells": [
  {
   "cell_type": "code",
   "execution_count": 99,
   "metadata": {},
   "outputs": [],
   "source": [
    "#from pyefd import elliptic_fourier_descriptors\n",
    "import pandas as pd\n",
    "import numpy as np\n",
    "from scipy.spatial.distance import cdist\n",
    "import cv2\n",
    "import matplotlib.pyplot as plt\n",
    "from skimage.morphology import skeletonize\n",
    "\n",
    "from scipy.spatial import KDTree\n",
    "\n",
    "import sys\n",
    "sys.path.append(\"..\")\n",
    "\n",
    "from utils import rasterize"
   ]
  },
  {
   "cell_type": "code",
   "execution_count": 52,
   "metadata": {},
   "outputs": [],
   "source": [
    "dfs = [[] for _ in range(10)]\n",
    "for i in range(10):\n",
    "    for k in range(100):\n",
    "        df = pd.read_csv(f\"../training_data/stroke_{i}_{k+1:04}.csv\", header=None, usecols=[0, 1])\n",
    "        df = (df - df.mean()) / df.std()\n",
    "        # df = (df-df.min())/(df.max()-df.min())\n",
    "        dfs[i].append(df)"
   ]
  },
  {
   "cell_type": "code",
   "execution_count": 55,
   "metadata": {},
   "outputs": [],
   "source": [
    "def rasterize_number(df, size, thickness=5):\n",
    "    tmp = np.zeros((size, size))\n",
    "    pts = df[[0,1]] * size\n",
    "    pts = df[[0,1]] * size/6 + size/2\n",
    "    pts = pts.to_numpy().astype(np.int32)\n",
    "    for j in range(len(pts)-1):\n",
    "        tmp = cv2.line(tmp, pts[j], pts[j+1], 1, thickness)\n",
    "    tmp  = cv2.flip(tmp, 0)\n",
    "    return tmp"
   ]
  },
  {
   "cell_type": "code",
   "execution_count": 71,
   "metadata": {},
   "outputs": [],
   "source": [
    "SIZE = 100\n",
    "template_size = (SIZE, SIZE)\n",
    "templates = [np.zeros(template_size) for _ in range(10)]\n",
    "number_templates = []\n",
    "\n",
    "for num in range(10):\n",
    "    for i in range(90):\n",
    "        tmp = np.zeros(template_size)\n",
    "        df = dfs[num][i]\n",
    "        templates[num] += rasterize_number(df, SIZE)\n",
    "\n",
    "    templates[num] /= np.sum(templates[num])\n",
    "\n",
    "    image = np.array(templates[num])\n",
    "\n",
    "    scaled_image = ((image - np.min(image)) / (np.max(image) - np.min(image))) * 255\n",
    "    scaled_image[image == 0] = 0\n",
    "\n",
    "    # plt.imshow(scaled_image, cmap='gray')\n",
    "    # plt.show()\n",
    "\n",
    "\n",
    "    thresh = cv2.threshold(scaled_image, 127, 255, cv2.THRESH_BINARY)[1]\n",
    "    thresh = cv2.flip(cv2.transpose(thresh), 1)\n",
    "    # plt.imshow(thresh, cmap='gray')\n",
    "    # plt.show()\n",
    "    #skeleton = (255*skeletonize(zero)).astype(np.uint8)\n",
    "    skeleton = skeletonize(thresh)\n",
    "\n",
    "    # plt.imshow(skeleton, cmap='gray')\n",
    "    # plt.title('Skeletonized Image')\n",
    "    # plt.show()\n",
    "\n",
    "    coordinates = np.column_stack(np.where(skeleton == True))\n",
    "    #print(coordinates)\n",
    "    # print(coordinates.T[0])\n",
    "    # print(coordinates[1])\n",
    "    df = pd.DataFrame(coordinates, columns=['X', 'Y'])\n",
    "    #df[\"Z\"] = 0\n",
    "    df = (df - df.mean()) / df.std()\n",
    "    number_templates.append(df)"
   ]
  },
  {
   "cell_type": "code",
   "execution_count": 98,
   "metadata": {},
   "outputs": [],
   "source": [
    "# plt.scatter(number_templates[2]['X'],number_templates[2]['Y'] , cmap='gray')\n",
    "# plt.show()\n",
    "\n",
    "# templates = [dfs[0][9], dfs[1][86], dfs[2][10], dfs[3][8], dfs[4][11], dfs[5][4], dfs[6][2], dfs[7][9], dfs[8][14], dfs[9][0]]\n",
    "# plt.scatter(templates[9][0],templates[9][1] , cmap='gray')\n",
    "# plt.show()"
   ]
  },
  {
   "cell_type": "code",
   "execution_count": 117,
   "metadata": {},
   "outputs": [],
   "source": [
    "def hausdorff_distance(matrix1, matrix2):\n",
    "    distance_matrix = cdist(matrix1, matrix2, metric='euclidean')\n",
    "    max_dist_1_to_2 = np.max(np.min(distance_matrix, axis=1))\n",
    "    max_dist_2_to_1 = np.max(np.min(distance_matrix, axis=0))\n",
    "    return max(max_dist_1_to_2, max_dist_2_to_1)\n",
    "\n",
    "def sum_of_min_distances(set1, set2):\n",
    "    tree = KDTree(set1)\n",
    "    distances = tree.query(set2)[0]\n",
    "    normalized_sum = sum(distances) / len(set2)\n",
    "    return normalized_sum\n",
    "\n",
    "def calculate_metric(set1, set2):\n",
    "    return sum_of_min_distances(set1, set2)\n",
    "    return hausdorff_distance(set1, set2)"
   ]
  },
  {
   "cell_type": "code",
   "execution_count": 118,
   "metadata": {},
   "outputs": [
    {
     "name": "stdout",
     "output_type": "stream",
     "text": [
      "37.7\n"
     ]
    }
   ],
   "source": [
    "DEBUG=False\n",
    "templates = number_templates\n",
    "\n",
    "test_number = 0\n",
    "correct = 0\n",
    "all = 0\n",
    "for df in dfs:\n",
    "    for i in range(100):\n",
    "        sample = df[i]\n",
    "        minimum = 0\n",
    "        pred = 0\n",
    "        index = 0\n",
    "        for template in templates:\n",
    "            metric = calculate_metric(sample.values, template.values)\n",
    "            if minimum > metric or index == 0:\n",
    "                pred = index\n",
    "                minimum = metric\n",
    "            index += 1\n",
    "        all += 1\n",
    "        if pred == test_number:\n",
    "            correct +=1\n",
    "        elif DEBUG:\n",
    "            print(f'Correct {test_number}, guess {pred}')\n",
    "    test_number +=1\n",
    "\n",
    "print(correct/all * 100)"
   ]
  }
 ],
 "metadata": {
  "kernelspec": {
   "display_name": ".venv",
   "language": "python",
   "name": "python3"
  },
  "language_info": {
   "codemirror_mode": {
    "name": "ipython",
    "version": 3
   },
   "file_extension": ".py",
   "mimetype": "text/x-python",
   "name": "python",
   "nbconvert_exporter": "python",
   "pygments_lexer": "ipython3",
   "version": "3.10.5"
  }
 },
 "nbformat": 4,
 "nbformat_minor": 2
}
