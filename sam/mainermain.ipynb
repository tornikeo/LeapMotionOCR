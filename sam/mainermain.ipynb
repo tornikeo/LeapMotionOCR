{
 "cells": [
  {
   "cell_type": "code",
   "execution_count": 441,
   "metadata": {},
   "outputs": [],
   "source": [
    "import pandas as pd\n",
    "import matplotlib.pyplot as plt\n",
    "import numpy as np\n",
    "import cv2 as cv\n",
    "from sklearn.cluster import KMeans\n",
    "from sklearn.model_selection import train_test_split\n",
    "import random\n",
    "\n"
   ]
  },
  {
   "cell_type": "code",
   "execution_count": 442,
   "metadata": {},
   "outputs": [],
   "source": [
    "dfs = [[] for _ in range(10)]\n",
    "for i in range(10):\n",
    "    for k in range(100):\n",
    "        df = pd.read_csv(f\"../training_data/stroke_{i}_{k+1:04}.csv\", header=None)\n",
    "        df.drop(df.columns[2], axis=1, inplace=True)\n",
    "        # df = (df - df.min()) / (df.max()-df.min())\n",
    "        df = (df - df.mean()) / (df.std())\n",
    "        dfs[i].append(df)\n"
   ]
  },
  {
   "cell_type": "code",
   "execution_count": 443,
   "metadata": {},
   "outputs": [],
   "source": [
    "train_data = []\n",
    "test_data = []\n",
    "for num in range(10):\n",
    "    train, test = train_test_split(dfs[num], test_size=0.25)\n",
    "    train_data.append(train)\n",
    "    test_data.append(test)\n"
   ]
  },
  {
   "cell_type": "code",
   "execution_count": 444,
   "metadata": {},
   "outputs": [],
   "source": [
    "LINE_BINS = 12\n",
    "ANGLE_BINS = 12\n",
    "BINS = LINE_BINS + ANGLE_BINS\n",
    "\n",
    "def bucketize(x, num_buckets, range):\n",
    "    res = int((x - range[0]) / (range[1] - range[0]) * num_buckets)\n",
    "    if res == num_buckets:\n",
    "        res -= 1\n",
    "    return res\n",
    "    \n",
    "def featurize_point_vector(df: pd.DataFrame):\n",
    "    features = []\n",
    "    buckets = np.zeros((ANGLE_BINS))\n",
    "    for i in range(df.shape[0]-1):\n",
    "        angle = np.arctan2(df.iloc[i, 1], df.iloc[i, 0])\n",
    "        bucket = bucketize(angle, ANGLE_BINS, (-np.pi, np.pi))\n",
    "        magnitude = np.linalg.norm(df.iloc[i])\n",
    "        buckets[bucket] += magnitude\n",
    "\n",
    "    # res = np.histogram(features, bins=ANGLE_BINS, range=(-np.pi, np.pi))[0]\n",
    "    res = buckets / buckets.sum()\n",
    "    return res\n",
    "\n",
    "def featurize_lines(df: pd.DataFrame):\n",
    "    features = []\n",
    "    buckets = np.zeros((LINE_BINS))\n",
    "\n",
    "    for i in range(df.shape[0]-1):\n",
    "        dir = df.iloc[i+1] - df.iloc[i]\n",
    "        angle = np.arctan2(dir.iloc[1], dir.iloc[0])\n",
    "\n",
    "        bucket = bucketize(angle, LINE_BINS, (-np.pi, np.pi))\n",
    "        magnitude = np.linalg.norm(dir)\n",
    "        buckets[bucket] += magnitude\n",
    "\n",
    "    # res = np.histogram(features, bins=LINE_BINS, range=(-np.pi, np.pi))[0]\n",
    "    # res = res / res.sum()\n",
    "    res = buckets / buckets.sum()\n",
    "\n",
    "    return res\n",
    "\n",
    "def featurize(df: pd.DataFrame):\n",
    "    angle_features = featurize_point_vector(df)\n",
    "    line_features = featurize_lines(df)\n",
    "    # line_features = []\n",
    "    res = np.concatenate((line_features, angle_features))\n",
    "    return res\n"
   ]
  },
  {
   "cell_type": "code",
   "execution_count": 445,
   "metadata": {},
   "outputs": [
    {
     "name": "stdout",
     "output_type": "stream",
     "text": [
      "[0, 0, 1, 1, 1, 1, 2, 2, 2, 3, 3, 4, 4, 5, 5, 6, 6, 7, 7, 7, 8, 8, 9, 9]\n"
     ]
    }
   ],
   "source": [
    "num_clusters = [\n",
    "    2,  # 0\n",
    "    4,  # 1\n",
    "    3,  # 2\n",
    "    2,  # 3\n",
    "    2,  # 4\n",
    "    2,  # 5\n",
    "    2,  # 6\n",
    "    3,  # 7\n",
    "    2,  # 8\n",
    "    2,  # 9\n",
    "]\n",
    "\n",
    "cluster_mapping = [i for i in range(10) for _ in range(num_clusters[i])]\n",
    "print(cluster_mapping)\n"
   ]
  },
  {
   "cell_type": "code",
   "execution_count": 446,
   "metadata": {},
   "outputs": [
    {
     "name": "stdout",
     "output_type": "stream",
     "text": [
      "Num: 0,Cluster 0: 50\n",
      "Num: 0,Cluster 1: 25\n",
      "Num: 1,Cluster 0: 28\n",
      "Num: 1,Cluster 1: 33\n",
      "Num: 1,Cluster 2: 11\n",
      "Num: 1,Cluster 3: 3\n",
      "Num: 2,Cluster 0: 19\n",
      "Num: 2,Cluster 1: 27\n",
      "Num: 2,Cluster 2: 29\n",
      "Num: 3,Cluster 0: 21\n",
      "Num: 3,Cluster 1: 54\n",
      "Num: 4,Cluster 0: 58\n",
      "Num: 4,Cluster 1: 17\n",
      "Num: 5,Cluster 0: 18\n",
      "Num: 5,Cluster 1: 57\n",
      "Num: 6,Cluster 0: 37\n",
      "Num: 6,Cluster 1: 38\n",
      "Num: 7,Cluster 0: 34\n",
      "Num: 7,Cluster 1: 18\n",
      "Num: 7,Cluster 2: 23\n",
      "Num: 8,Cluster 0: 48\n",
      "Num: 8,Cluster 1: 27\n",
      "Num: 9,Cluster 0: 22\n",
      "Num: 9,Cluster 1: 53\n"
     ]
    }
   ],
   "source": [
    "fvs = []\n",
    "\n",
    "for num in range(10):\n",
    "    features = []\n",
    "    for df in train_data[num]:\n",
    "        features.append(featurize(df))\n",
    "\n",
    "    km = KMeans(n_clusters=num_clusters[num], n_init=20)\n",
    "    km.fit(features)\n",
    "    fvs += km.cluster_centers_.tolist()\n",
    "    for i in range(num_clusters[num]):\n",
    "        print(f\"Num: {num},Cluster {i}: {km.labels_.tolist().count(i)}\")\n",
    "        # plt.bar(range(ANGLE_BINS), km.cluster_centers_[i])\n",
    "        # plt.title(f\"{num} {i}\")\n",
    "        # plt.show()\n",
    "    # fvs.append(km.cluster_centers_[0])\n",
    "    # fvs.append(km.cluster_centers_[1])\n",
    "    # plt.bar(range(BINS), avg)\n",
    "    # plt.title(str(num))\n",
    "    # plt.show()\n",
    "\n"
   ]
  },
  {
   "cell_type": "code",
   "execution_count": 447,
   "metadata": {},
   "outputs": [
    {
     "name": "stdout",
     "output_type": "stream",
     "text": [
      "Num: 0, Correct: 24, Incorrect: 1, Accuracy: 0.96\n",
      "Num: 1, Correct: 19, Incorrect: 6, Accuracy: 0.76\n",
      "Num: 2, Correct: 25, Incorrect: 0, Accuracy: 1.0\n",
      "Num: 3, Correct: 24, Incorrect: 1, Accuracy: 0.96\n",
      "Num: 4, Correct: 22, Incorrect: 3, Accuracy: 0.88\n",
      "Num: 5, Correct: 24, Incorrect: 1, Accuracy: 0.96\n",
      "Num: 6, Correct: 24, Incorrect: 1, Accuracy: 0.96\n",
      "Num: 7, Correct: 24, Incorrect: 1, Accuracy: 0.96\n",
      "Num: 8, Correct: 23, Incorrect: 2, Accuracy: 0.92\n",
      "Num: 9, Correct: 22, Incorrect: 3, Accuracy: 0.88\n",
      "Correct: 231, Incorrect: 19, Accuracy: 0.924\n"
     ]
    }
   ],
   "source": [
    "from scipy.stats import chisquare\n",
    "from scipy.special import kl_div\n",
    "correct = 0\n",
    "incorrect = 0\n",
    "\n",
    "y_true = []\n",
    "y_pred = []\n",
    "\n",
    "for num in range(10):\n",
    "    nc = 0\n",
    "    ni = 0\n",
    "    for df in test_data[num]:\n",
    "        test_features = featurize(df)\n",
    "\n",
    "        scores = []\n",
    "        for ti, template in enumerate(fvs):\n",
    "            # score = chisquare(tmp, template)\n",
    "            score = np.sum(kl_div(test_features, template))\n",
    "            # scores.append(score.pvalue)\n",
    "            scores.append(score)\n",
    "\n",
    "        selected = cluster_mapping[np.argmin(scores)]\n",
    "        # selected = np.argmax(scores)//2\n",
    "        # print(f\"i: {i}, Num: {num}, Estimate: {selected}\")\n",
    "        y_true.append(num)\n",
    "        y_pred.append(selected)\n",
    "\n",
    "        if selected == num:\n",
    "            correct += 1\n",
    "            nc += 1\n",
    "        else:\n",
    "            incorrect += 1\n",
    "            ni += 1\n",
    "\n",
    "    print(f\"Num: {num}, Correct: {nc}, Incorrect: {ni}, Accuracy: {nc/(nc+ni)}\")\n",
    "print(f\"Correct: {correct}, Incorrect: {incorrect}, Accuracy: {correct/(correct+incorrect)}\")\n"
   ]
  },
  {
   "cell_type": "code",
   "execution_count": 448,
   "metadata": {},
   "outputs": [
    {
     "data": {
      "text/plain": [
       "array([[24,  0,  0,  0,  0,  0,  1,  0,  0,  0],\n",
       "       [ 0, 19,  1,  2,  0,  0,  0,  2,  0,  1],\n",
       "       [ 0,  0, 25,  0,  0,  0,  0,  0,  0,  0],\n",
       "       [ 1,  0,  0, 24,  0,  0,  0,  0,  0,  0],\n",
       "       [ 1,  0,  0,  0, 22,  0,  1,  1,  0,  0],\n",
       "       [ 0,  0,  0,  1,  0, 24,  0,  0,  0,  0],\n",
       "       [ 0,  0,  0,  0,  0,  1, 24,  0,  0,  0],\n",
       "       [ 0,  1,  0,  0,  0,  0,  0, 24,  0,  0],\n",
       "       [ 2,  0,  0,  0,  0,  0,  0,  0, 23,  0],\n",
       "       [ 0,  0,  0,  3,  0,  0,  0,  0,  0, 22]])"
      ]
     },
     "execution_count": 448,
     "metadata": {},
     "output_type": "execute_result"
    }
   ],
   "source": [
    "from sklearn.metrics import confusion_matrix\n",
    "\n",
    "confusion_matrix(y_true, y_pred)\n"
   ]
  },
  {
   "cell_type": "code",
   "execution_count": 449,
   "metadata": {},
   "outputs": [
    {
     "data": {
      "text/plain": [
       "[<matplotlib.lines.Line2D at 0x7f118aa42050>]"
      ]
     },
     "execution_count": 449,
     "metadata": {},
     "output_type": "execute_result"
    },
    {
     "data": {
      "image/png": "[encoded data removed]",
      "text/plain": [
       "<Figure size 640x480 with 1 Axes>"
      ]
     },
     "metadata": {},
     "output_type": "display_data"
    }
   ],
   "source": [
    "num = 1\n",
    "i = 90\n",
    "plt.plot(dfs[num][i].iloc[:,0], dfs[num][i].iloc[:,1])\n"
   ]
  }
 ],
 "metadata": {
  "kernelspec": {
   "display_name": "torch2",
   "language": "python",
   "name": "python3"
  },
  "language_info": {
   "codemirror_mode": {
    "name": "ipython",
    "version": 3
   },
   "file_extension": ".py",
   "mimetype": "text/x-python",
   "name": "python",
   "nbconvert_exporter": "python",
   "pygments_lexer": "ipython3",
   "version": "3.10.12"
  }
 },
 "nbformat": 4,
 "nbformat_minor": 2
}
