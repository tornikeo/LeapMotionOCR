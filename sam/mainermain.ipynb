{
 "cells": [
  {
   "cell_type": "code",
<<<<<<< Updated upstream
   "execution_count": 7,
=======
   "execution_count": 1,
>>>>>>> Stashed changes
   "metadata": {},
   "outputs": [
    {
     "name": "stdout",
     "output_type": "stream",
     "text": [
      "/home/tornikeo/Documents/uni/PRCV/proj\n"
     ]
    }
   ],
   "source": [
    "%cd ..\n",
    "\n",
    "import pandas as pd\n",
    "import matplotlib.pyplot as plt\n",
    "import numpy as np\n",
    "import cv2 as cv\n",
    "from sklearn.cluster import KMeans\n",
    "from sklearn.model_selection import train_test_split\n",
    "import random\n",
    "\n",
    "import utils\n"
   ]
  },
  {
   "cell_type": "code",
<<<<<<< Updated upstream
   "execution_count": 8,
=======
   "execution_count": 2,
>>>>>>> Stashed changes
   "metadata": {},
   "outputs": [],
   "source": [
    "X, y = utils.load_training_data(\"training_data\")\n",
    "\n",
    "for i in range(len(X)):\n",
    "    X[i].drop(2, axis=1, inplace=True)\n",
    "    X[i] = (X[i] - X[i].mean()) / X[i].std()\n"
   ]
  },
  {
   "cell_type": "code",
<<<<<<< Updated upstream
   "execution_count": 9,
=======
   "execution_count": 3,
>>>>>>> Stashed changes
   "metadata": {},
   "outputs": [],
   "source": [
    "train_X, test_X, train_y, test_y = train_test_split(X, y, test_size=0.25, random_state=42, stratify=y)"
   ]
  },
  {
   "cell_type": "code",
<<<<<<< Updated upstream
   "execution_count": 10,
=======
   "execution_count": 4,
>>>>>>> Stashed changes
   "metadata": {},
   "outputs": [],
   "source": [
    "LINE_BINS = 12\n",
    "ANGLE_BINS = 12\n",
    "BINS = LINE_BINS + ANGLE_BINS\n",
    "\n",
    "def bucketize(x, num_buckets, range):\n",
    "    res = int((x - range[0]) / (range[1] - range[0]) * num_buckets)\n",
    "    if res == num_buckets:\n",
    "        res -= 1\n",
    "    return res\n",
    "    \n",
    "def featurize_point_vector(df: pd.DataFrame):\n",
    "    features = []\n",
    "    buckets = np.zeros((ANGLE_BINS))\n",
    "    for i in range(df.shape[0]-1):\n",
    "        angle = np.arctan2(df.iloc[i, 1], df.iloc[i, 0])\n",
    "        bucket = bucketize(angle, ANGLE_BINS, (-np.pi, np.pi))\n",
    "        magnitude = np.linalg.norm(df.iloc[i])\n",
    "        buckets[bucket] += magnitude\n",
    "\n",
    "    # res = np.histogram(features, bins=ANGLE_BINS, range=(-np.pi, np.pi))[0]\n",
    "    res = buckets / buckets.sum()\n",
    "    return res\n",
    "\n",
    "def featurize_lines(df: pd.DataFrame):\n",
    "    features = []\n",
    "    buckets = np.zeros((LINE_BINS))\n",
    "\n",
    "    for i in range(df.shape[0]-1):\n",
    "        dir = df.iloc[i+1] - df.iloc[i]\n",
    "        angle = np.arctan2(dir.iloc[1], dir.iloc[0])\n",
    "\n",
    "        bucket = bucketize(angle, LINE_BINS, (-np.pi, np.pi))\n",
    "        magnitude = np.linalg.norm(dir)\n",
    "        buckets[bucket] += magnitude\n",
    "\n",
    "    # res = np.histogram(features, bins=LINE_BINS, range=(-np.pi, np.pi))[0]\n",
    "    # res = res / res.sum()\n",
    "    res = buckets / buckets.sum()\n",
    "\n",
    "    return res\n",
    "\n",
    "def featurize(df: pd.DataFrame):\n",
    "    angle_features = featurize_point_vector(df)\n",
    "    line_features = featurize_lines(df)\n",
    "    # line_features = []\n",
    "    res = np.concatenate((line_features, angle_features))\n",
    "    return res\n"
   ]
  },
  {
   "cell_type": "code",
<<<<<<< Updated upstream
   "execution_count": 11,
=======
   "execution_count": 5,
>>>>>>> Stashed changes
   "metadata": {},
   "outputs": [
    {
     "name": "stdout",
     "output_type": "stream",
     "text": [
      "[0, 0, 1, 1, 1, 1, 2, 2, 2, 3, 3, 4, 4, 5, 5, 6, 6, 7, 7, 7, 8, 8, 9, 9]\n"
     ]
    }
   ],
   "source": [
    "num_clusters = [\n",
    "    2,  # 0\n",
    "    4,  # 1\n",
    "    3,  # 2\n",
    "    2,  # 3\n",
    "    2,  # 4\n",
    "    2,  # 5\n",
    "    2,  # 6\n",
    "    3,  # 7\n",
    "    2,  # 8\n",
    "    2,  # 9\n",
    "]\n",
    "\n",
    "cluster_mapping = [i for i in range(10) for _ in range(num_clusters[i])]\n",
    "print(cluster_mapping)\n"
   ]
  },
  {
   "cell_type": "code",
<<<<<<< Updated upstream
   "execution_count": 12,
=======
   "execution_count": 6,
>>>>>>> Stashed changes
   "metadata": {},
   "outputs": [
    {
     "name": "stdout",
     "output_type": "stream",
     "text": [
<<<<<<< Updated upstream
      "Num: 0,Cluster 0: 28\n",
      "Num: 0,Cluster 1: 47\n",
      "Num: 1,Cluster 0: 25\n",
      "Num: 1,Cluster 1: 35\n",
      "Num: 1,Cluster 2: 10\n",
      "Num: 1,Cluster 3: 5\n",
      "Num: 2,Cluster 0: 14\n",
      "Num: 2,Cluster 1: 33\n",
      "Num: 2,Cluster 2: 28\n",
      "Num: 3,Cluster 0: 51\n",
      "Num: 3,Cluster 1: 24\n",
      "Num: 4,Cluster 0: 52\n",
      "Num: 4,Cluster 1: 23\n",
      "Num: 5,Cluster 0: 55\n",
      "Num: 5,Cluster 1: 20\n",
      "Num: 6,Cluster 0: 25\n",
      "Num: 6,Cluster 1: 50\n",
      "Num: 7,Cluster 0: 17\n",
      "Num: 7,Cluster 1: 40\n",
      "Num: 7,Cluster 2: 18\n",
      "Num: 8,Cluster 0: 26\n",
      "Num: 8,Cluster 1: 49\n",
      "Num: 9,Cluster 0: 51\n",
      "Num: 9,Cluster 1: 24\n"
=======
      "Num: 0,Cluster 0: 47\n",
      "Num: 0,Cluster 1: 28\n",
      "Num: 1,Cluster 0: 25\n",
      "Num: 1,Cluster 1: 10\n",
      "Num: 1,Cluster 2: 35\n",
      "Num: 1,Cluster 3: 5\n",
      "Num: 2,Cluster 0: 33\n",
      "Num: 2,Cluster 1: 28\n",
      "Num: 2,Cluster 2: 14\n",
      "Num: 3,Cluster 0: 51\n",
      "Num: 3,Cluster 1: 24\n",
      "Num: 4,Cluster 0: 23\n",
      "Num: 4,Cluster 1: 52\n",
      "Num: 5,Cluster 0: 20\n",
      "Num: 5,Cluster 1: 55\n",
      "Num: 6,Cluster 0: 25\n",
      "Num: 6,Cluster 1: 50\n",
      "Num: 7,Cluster 0: 40\n",
      "Num: 7,Cluster 1: 17\n",
      "Num: 7,Cluster 2: 18\n",
      "Num: 8,Cluster 0: 49\n",
      "Num: 8,Cluster 1: 26\n",
      "Num: 9,Cluster 0: 50\n",
      "Num: 9,Cluster 1: 25\n"
>>>>>>> Stashed changes
     ]
    }
   ],
   "source": [
    "fvs = []\n",
    "\n",
    "for num in range(10):\n",
    "    features = []\n",
    "    for i, df in enumerate(train_X):\n",
    "        if train_y.iloc[i] != num:\n",
    "            continue\n",
    "        features.append(featurize(df))\n",
    "\n",
    "    km = KMeans(n_clusters=num_clusters[num], n_init=20)\n",
    "    km.fit(features)\n",
    "    fvs += km.cluster_centers_.tolist()\n",
    "    for i in range(num_clusters[num]):\n",
    "        print(f\"Num: {num},Cluster {i}: {km.labels_.tolist().count(i)}\")\n"
   ]
  },
  {
   "cell_type": "code",
<<<<<<< Updated upstream
   "execution_count": 14,
=======
   "execution_count": 7,
>>>>>>> Stashed changes
   "metadata": {},
   "outputs": [
    {
     "name": "stdout",
     "output_type": "stream",
     "text": [
      "              precision    recall  f1-score   support\n",
      "\n",
      "           0       0.96      0.96      0.96        25\n",
      "           1       0.88      0.84      0.86        25\n",
      "           2       1.00      1.00      1.00        25\n",
      "           3       0.83      1.00      0.91        25\n",
      "           4       1.00      0.92      0.96        25\n",
      "           5       1.00      0.92      0.96        25\n",
      "           6       0.96      1.00      0.98        25\n",
      "           7       0.88      0.84      0.86        25\n",
      "           8       1.00      0.92      0.96        25\n",
      "           9       0.85      0.92      0.88        25\n",
      "\n",
      "    accuracy                           0.93       250\n",
      "   macro avg       0.94      0.93      0.93       250\n",
      "weighted avg       0.94      0.93      0.93       250\n",
      "\n"
     ]
    }
   ],
   "source": [
    "from scipy.special import kl_div\n",
    "from sklearn.metrics import classification_report\n",
    "\n",
    "correct = 0\n",
    "incorrect = 0\n",
    "\n",
    "y_true = []\n",
    "y_pred = []\n",
    "\n",
    "for i, df in enumerate(test_X):\n",
    "    test_features = featurize(df)\n",
    "\n",
    "    scores = []\n",
    "    for ti, template in enumerate(fvs):\n",
    "        # score = chisquare(tmp, template)\n",
    "        score = np.sum(kl_div(test_features, template))\n",
    "        # scores.append(score.pvalue)\n",
    "        scores.append(score)\n",
    "\n",
    "    selected = cluster_mapping[np.argmin(scores)]\n",
    "    # selected = np.argmax(scores)//2\n",
    "    # print(f\"i: {i}, Num: {num}, Estimate: {selected}\")\n",
    "    y_true.append(test_y.iloc[i])\n",
    "    y_pred.append(selected)\n",
    "\n",
    "print(classification_report(y_true, y_pred))\n"
   ]
  },
  {
   "cell_type": "code",
<<<<<<< Updated upstream
   "execution_count": 15,
=======
   "execution_count": 8,
>>>>>>> Stashed changes
   "metadata": {},
   "outputs": [
    {
     "data": {
      "text/plain": [
       "array([[24,  0,  0,  0,  0,  0,  0,  0,  0,  1],\n",
       "       [ 0, 21,  0,  2,  0,  0,  0,  1,  0,  1],\n",
       "       [ 0,  0, 25,  0,  0,  0,  0,  0,  0,  0],\n",
       "       [ 0,  0,  0, 25,  0,  0,  0,  0,  0,  0],\n",
       "       [ 0,  0,  0,  0, 23,  0,  0,  2,  0,  0],\n",
       "       [ 0,  0,  0,  0,  0, 23,  1,  0,  0,  1],\n",
       "       [ 0,  0,  0,  0,  0,  0, 25,  0,  0,  0],\n",
       "       [ 0,  3,  0,  0,  0,  0,  0, 21,  0,  1],\n",
       "       [ 1,  0,  0,  1,  0,  0,  0,  0, 23,  0],\n",
       "       [ 0,  0,  0,  2,  0,  0,  0,  0,  0, 23]])"
      ]
     },
<<<<<<< Updated upstream
     "execution_count": 15,
=======
     "execution_count": 8,
>>>>>>> Stashed changes
     "metadata": {},
     "output_type": "execute_result"
    }
   ],
   "source": [
    "from sklearn.metrics import confusion_matrix\n",
    "\n",
    "confusion_matrix(y_true, y_pred)\n"
   ]
  }
 ],
 "metadata": {
  "kernelspec": {
   "display_name": "torch2",
   "language": "python",
   "name": "python3"
  },
  "language_info": {
   "codemirror_mode": {
    "name": "ipython",
    "version": 3
   },
   "file_extension": ".py",
   "mimetype": "text/x-python",
   "name": "python",
   "nbconvert_exporter": "python",
   "pygments_lexer": "ipython3",
   "version": "3.10.11"
  }
 },
 "nbformat": 4,
 "nbformat_minor": 2
}
