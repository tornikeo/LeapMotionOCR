{
 "cells": [
  {
   "cell_type": "code",
   "execution_count": 9,
   "metadata": {},
   "outputs": [],
   "source": [
    "#from pyefd import elliptic_fourier_descriptors\n",
    "\n",
    "import pandas as pd\n",
    "import numpy as np\n",
    "from scipy.spatial.distance import cdist"
   ]
  },
  {
   "cell_type": "code",
   "execution_count": 66,
   "metadata": {},
   "outputs": [],
   "source": [
    "dfs = [[] for _ in range(10)]\n",
    "for i in range(10):\n",
    "    for k in range(100):\n",
    "        df = pd.read_csv(f\"training_data/stroke_{i}_{k+1:04}.csv\", header=None, usecols=[0, 1])\n",
    "        df = (df - df.mean()) / df.std()\n",
    "        # df = (df-df.min())/(df.max()-df.min())\n",
    "        dfs[i].append(df)"
   ]
  },
  {
   "cell_type": "code",
   "execution_count": 16,
   "metadata": {},
   "outputs": [],
   "source": [
    "df0_1 = pd.read_csv('training_data/stroke_0_0001.csv', header=None, usecols=[0, 1])\n",
    "df0_2 = pd.read_csv('training_data/stroke_0_0002.csv', header=None, usecols=[0, 1])\n",
    "\n",
    "df1 = pd.read_csv('training_data/stroke_1_0002.csv', header=None, usecols=[0, 1])\n",
    "df2 = pd.read_csv('training_data/stroke_2_0002.csv', header=None, usecols=[0, 1])\n",
    "df3 = pd.read_csv('training_data/stroke_3_0002.csv', header=None, usecols=[0, 1])\n",
    "df4 = pd.read_csv('training_data/stroke_4_0002.csv', header=None, usecols=[0, 1])\n",
    "df5 = pd.read_csv('training_data/stroke_5_0002.csv', header=None, usecols=[0, 1])\n",
    "df6 = pd.read_csv('training_data/stroke_6_0002.csv', header=None, usecols=[0, 1])\n",
    "df7 = pd.read_csv('training_data/stroke_7_0002.csv', header=None, usecols=[0, 1])\n",
    "df8 = pd.read_csv('training_data/stroke_8_0002.csv', header=None, usecols=[0, 1])\n",
    "df9 = pd.read_csv('training_data/stroke_9_0002.csv', header=None, usecols=[0, 1])"
   ]
  },
  {
   "cell_type": "code",
   "execution_count": 185,
   "metadata": {},
   "outputs": [],
   "source": [
    "def hausdorff_distance(matrix1, matrix2):\n",
    "    distance_matrix = cdist(matrix1, matrix2, metric='euclidean')\n",
    "    max_dist_1_to_2 = np.max(np.min(distance_matrix, axis=1))\n",
    "    max_dist_2_to_1 = np.max(np.min(distance_matrix, axis=0))\n",
    "    return max(max_dist_1_to_2, max_dist_2_to_1)"
   ]
  },
  {
   "cell_type": "code",
   "execution_count": 186,
   "metadata": {},
   "outputs": [
    {
     "name": "stdout",
     "output_type": "stream",
     "text": [
      "82.5\n"
     ]
    }
   ],
   "source": [
    "templates = [dfs[0][9], dfs[1][86], dfs[2][10], dfs[3][8], dfs[4][11], dfs[5][4], dfs[6][2], dfs[7][9], dfs[8][14], dfs[9][0]]\n",
    "\n",
    "test_number = 0\n",
    "correct = 0\n",
    "all = 0\n",
    "for df in dfs:\n",
    "    for sample in df:\n",
    "        minimum = 0\n",
    "        pred = 0\n",
    "        index = 0\n",
    "        for template in templates:\n",
    "            distance = hausdorff_distance(sample.values, template.values)\n",
    "            if minimum > distance or index == 0:\n",
    "                pred = index\n",
    "                minimum = distance\n",
    "            index += 1\n",
    "        all += 1\n",
    "        if pred == test_number:\n",
    "            correct +=1\n",
    "    test_number +=1\n",
    "\n",
    "print(correct/all * 100)"
   ]
  }
 ],
 "metadata": {
  "kernelspec": {
   "display_name": ".venv",
   "language": "python",
   "name": "python3"
  },
  "language_info": {
   "codemirror_mode": {
    "name": "ipython",
    "version": 3
   },
   "file_extension": ".py",
   "mimetype": "text/x-python",
   "name": "python",
   "nbconvert_exporter": "python",
   "pygments_lexer": "ipython3",
   "version": "3.10.5"
  }
 },
 "nbformat": 4,
 "nbformat_minor": 2
}
